{
 "cells": [
  {
   "cell_type": "markdown",
   "metadata": {},
   "source": [
    "### pull polymarket and kalshi api"
   ]
  },
  {
   "cell_type": "markdown",
   "metadata": {},
   "source": [
    "#### roadmap\n",
    "import all kalshi and polymarket api data\n",
    "<br>\n",
    "use llamas to match markets together\n",
    "<br>\n",
    "calc implied odds from markets\n",
    "<br>\n",
    "execute arbitratge opps"
   ]
  },
  {
   "cell_type": "code",
   "execution_count": null,
   "metadata": {},
   "outputs": [],
   "source": [
    "import os\n",
    "from py_clob_client.constants import POLYGON\n",
    "from py_clob_client.client import ClobClient\n",
    "from py_clob_client import client\n",
    "\n",
    "host = \"https://clob.polymarket.com\"\n",
    "key = os.getenv(\"PK\")\n",
    "chain_id = POLYGON\n",
    "\n",
    "# Create CLOB client and get/set API credentials\n",
    "client = ClobClient(host, key=key, chain_id=chain_id)\n",
    "client.set_api_creds(client.create_or_derive_api_creds())\n",
    "\n",
    "\n"
   ]
  }
 ],
 "metadata": {
  "kernelspec": {
   "display_name": "base",
   "language": "python",
   "name": "python3"
  },
  "language_info": {
   "codemirror_mode": {
    "name": "ipython",
    "version": 3
   },
   "file_extension": ".py",
   "mimetype": "text/x-python",
   "name": "python",
   "nbconvert_exporter": "python",
   "pygments_lexer": "ipython3",
   "version": "3.12.7"
  }
 },
 "nbformat": 4,
 "nbformat_minor": 2
}
