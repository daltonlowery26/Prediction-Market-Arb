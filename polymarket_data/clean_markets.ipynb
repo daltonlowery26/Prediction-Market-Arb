{
 "cells": [
  {
   "cell_type": "markdown",
   "metadata": {},
   "source": [
    "### clean sample markets data"
   ]
  },
  {
   "cell_type": "code",
   "execution_count": 14,
   "metadata": {},
   "outputs": [],
   "source": [
    "import pandas as pd\n",
    "import numpy as np\n",
    "import os\n",
    "\n",
    "os.chdir(\"C:/Users/dalto/OneDrive/Pictures/Documents/Projects/Pred Market Arb/\")\n",
    "market_data = pd.read_csv(\"polymarket_data/sample_markets.csv\")"
   ]
  },
  {
   "cell_type": "markdown",
   "metadata": {},
   "source": [
    "#### extract and clean cells"
   ]
  },
  {
   "cell_type": "code",
   "execution_count": null,
   "metadata": {},
   "outputs": [
    {
     "data": {
      "application/vnd.microsoft.datawrangler.viewer.v0+json": {
       "columns": [
        {
         "name": "index",
         "rawType": "int64",
         "type": "integer"
        },
        {
         "name": "condition_id",
         "rawType": "object",
         "type": "string"
        },
        {
         "name": "token_id",
         "rawType": "object",
         "type": "string"
        },
        {
         "name": "outcome",
         "rawType": "object",
         "type": "string"
        },
        {
         "name": "price",
         "rawType": "float64",
         "type": "float"
        },
        {
         "name": "winner",
         "rawType": "bool",
         "type": "boolean"
        },
        {
         "name": "min_incentive_size",
         "rawType": "float64",
         "type": "float"
        },
        {
         "name": "max_incentive_spread",
         "rawType": "float64",
         "type": "float"
        },
        {
         "name": "active",
         "rawType": "bool",
         "type": "boolean"
        },
        {
         "name": "closed",
         "rawType": "bool",
         "type": "boolean"
        }
       ],
       "conversionMethod": "pd.DataFrame",
       "ref": "94e6070c-60c2-41de-9805-691037f982cb",
       "rows": [
        [
         "0",
         "0x9deb0baac40648821f96f01339229a422e2f5c877de55dc4dbf981f95a1e709c",
         "14270523446080509320829200481895961480205553513304203367521919818541658424782",
         "Chiefs",
         "1.0",
         "False",
         "0.0",
         "0.0",
         "True",
         "True"
        ],
        [
         "1",
         "",
         "",
         "",
         "0.0",
         "False",
         "0.0",
         "0.0",
         "False",
         "False"
        ],
        [
         "2",
         "0x5317986240be3ab100ccbebeb8213ab45d1f5c502e6da17e1c9b30f9c6dcb52c",
         "112856288650667655013857354239294366111272834754068370340237314111424124768219",
         "Yes",
         "1.0",
         "True",
         "0.0",
         "0.0",
         "True",
         "True"
        ],
        [
         "3",
         "0x3d23087a0ed34ca1577afb1ae860714e9deddc8ff3cbfc5c15929c1472c59203",
         "20492996617166017062175278506524441320525786101399791089815795223193644269098",
         "Yes",
         "0.0001",
         "False",
         "0.0",
         "0.0",
         "True",
         "True"
        ],
        [
         "4",
         "0x9831cf4e59285e5487e788d8a1435cb4753b9076a38512848ac1488348192f27",
         "67301836300648827488886150283993448209143439372241617696200490831510066942724",
         "Yes",
         "1.0",
         "True",
         "0.0",
         "0.0",
         "True",
         "True"
        ]
       ],
       "shape": {
        "columns": 9,
        "rows": 5
       }
      },
      "text/html": [
       "<div>\n",
       "<style scoped>\n",
       "    .dataframe tbody tr th:only-of-type {\n",
       "        vertical-align: middle;\n",
       "    }\n",
       "\n",
       "    .dataframe tbody tr th {\n",
       "        vertical-align: top;\n",
       "    }\n",
       "\n",
       "    .dataframe thead th {\n",
       "        text-align: right;\n",
       "    }\n",
       "</style>\n",
       "<table border=\"1\" class=\"dataframe\">\n",
       "  <thead>\n",
       "    <tr style=\"text-align: right;\">\n",
       "      <th></th>\n",
       "      <th>condition_id</th>\n",
       "      <th>token_id</th>\n",
       "      <th>outcome</th>\n",
       "      <th>price</th>\n",
       "      <th>winner</th>\n",
       "      <th>min_incentive_size</th>\n",
       "      <th>max_incentive_spread</th>\n",
       "      <th>active</th>\n",
       "      <th>closed</th>\n",
       "    </tr>\n",
       "  </thead>\n",
       "  <tbody>\n",
       "    <tr>\n",
       "      <th>0</th>\n",
       "      <td>0x9deb0baac40648821f96f01339229a422e2f5c877de5...</td>\n",
       "      <td>1427052344608050932082920048189596148020555351...</td>\n",
       "      <td>Chiefs</td>\n",
       "      <td>1.0000</td>\n",
       "      <td>False</td>\n",
       "      <td>0.0</td>\n",
       "      <td>0.0</td>\n",
       "      <td>True</td>\n",
       "      <td>True</td>\n",
       "    </tr>\n",
       "    <tr>\n",
       "      <th>1</th>\n",
       "      <td></td>\n",
       "      <td></td>\n",
       "      <td></td>\n",
       "      <td>0.0000</td>\n",
       "      <td>False</td>\n",
       "      <td>0.0</td>\n",
       "      <td>0.0</td>\n",
       "      <td>False</td>\n",
       "      <td>False</td>\n",
       "    </tr>\n",
       "    <tr>\n",
       "      <th>2</th>\n",
       "      <td>0x5317986240be3ab100ccbebeb8213ab45d1f5c502e6d...</td>\n",
       "      <td>1128562886506676550138573542392943661112728347...</td>\n",
       "      <td>Yes</td>\n",
       "      <td>1.0000</td>\n",
       "      <td>True</td>\n",
       "      <td>0.0</td>\n",
       "      <td>0.0</td>\n",
       "      <td>True</td>\n",
       "      <td>True</td>\n",
       "    </tr>\n",
       "    <tr>\n",
       "      <th>3</th>\n",
       "      <td>0x3d23087a0ed34ca1577afb1ae860714e9deddc8ff3cb...</td>\n",
       "      <td>2049299661716601706217527850652444132052578610...</td>\n",
       "      <td>Yes</td>\n",
       "      <td>0.0001</td>\n",
       "      <td>False</td>\n",
       "      <td>0.0</td>\n",
       "      <td>0.0</td>\n",
       "      <td>True</td>\n",
       "      <td>True</td>\n",
       "    </tr>\n",
       "    <tr>\n",
       "      <th>4</th>\n",
       "      <td>0x9831cf4e59285e5487e788d8a1435cb4753b9076a385...</td>\n",
       "      <td>6730183630064882748888615028399344820914343937...</td>\n",
       "      <td>Yes</td>\n",
       "      <td>1.0000</td>\n",
       "      <td>True</td>\n",
       "      <td>0.0</td>\n",
       "      <td>0.0</td>\n",
       "      <td>True</td>\n",
       "      <td>True</td>\n",
       "    </tr>\n",
       "  </tbody>\n",
       "</table>\n",
       "</div>"
      ],
      "text/plain": [
       "                                        condition_id  \\\n",
       "0  0x9deb0baac40648821f96f01339229a422e2f5c877de5...   \n",
       "1                                                      \n",
       "2  0x5317986240be3ab100ccbebeb8213ab45d1f5c502e6d...   \n",
       "3  0x3d23087a0ed34ca1577afb1ae860714e9deddc8ff3cb...   \n",
       "4  0x9831cf4e59285e5487e788d8a1435cb4753b9076a385...   \n",
       "\n",
       "                                            token_id outcome   price  winner  \\\n",
       "0  1427052344608050932082920048189596148020555351...  Chiefs  1.0000   False   \n",
       "1                                                             0.0000   False   \n",
       "2  1128562886506676550138573542392943661112728347...     Yes  1.0000    True   \n",
       "3  2049299661716601706217527850652444132052578610...     Yes  0.0001   False   \n",
       "4  6730183630064882748888615028399344820914343937...     Yes  1.0000    True   \n",
       "\n",
       "   min_incentive_size  max_incentive_spread  active  closed  \n",
       "0                 0.0                   0.0    True    True  \n",
       "1                 0.0                   0.0   False   False  \n",
       "2                 0.0                   0.0    True    True  \n",
       "3                 0.0                   0.0    True    True  \n",
       "4                 0.0                   0.0    True    True  "
      ]
     },
     "execution_count": 19,
     "metadata": {},
     "output_type": "execute_result"
    }
   ],
   "source": [
    "import ast\n",
    "import pandas as pd\n",
    "\n",
    "def clean_data(df):\n",
    "    # Extract data from 'data' column and create new columns\n",
    "    df = pd.concat([df.drop(['data'], axis=1), df['data'].apply(ast.literal_eval).apply(pd.Series)], axis=1)\n",
    "    # Extract nested 'rewards' dictionary into separate columns\n",
    "    df = pd.concat([df.drop(['rewards'], axis=1), df['rewards'].apply(pd.Series)], axis=1)\n",
    "    # Rename columns for clarity\n",
    "    df.rename(columns={'min_size': 'min_incentive_size', 'max_spread': 'max_incentive_spread'}, inplace=True)\n",
    "    # Extract 'tokens' list into separate columns\n",
    "    df['tokens'] = df['tokens'].apply(lambda x: x[0] if isinstance(x, list) else x)\n",
    "    df = pd.concat([df.drop(['tokens'], axis=1), df['tokens'].apply(pd.Series)], axis=1)\n",
    "    # Final DataFrame with required columns\n",
    "    df = df[['condition_id', 'token_id', 'outcome', 'price', 'winner', 'min_incentive_size', 'max_incentive_spread', 'active', 'closed']]\n",
    "    return df\n",
    "\n",
    "# still need to remove blank rows\n",
    "df_clean = clean_data(market_data.copy())\n",
    "df_clean.head()"
   ]
  }
 ],
 "metadata": {
  "kernelspec": {
   "display_name": "base",
   "language": "python",
   "name": "python3"
  },
  "language_info": {
   "codemirror_mode": {
    "name": "ipython",
    "version": 3
   },
   "file_extension": ".py",
   "mimetype": "text/x-python",
   "name": "python",
   "nbconvert_exporter": "python",
   "pygments_lexer": "ipython3",
   "version": "3.12.7"
  }
 },
 "nbformat": 4,
 "nbformat_minor": 2
}
