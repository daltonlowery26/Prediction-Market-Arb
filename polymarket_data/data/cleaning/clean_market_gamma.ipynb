{
 "cells": [
  {
   "cell_type": "code",
   "execution_count": 2,
   "metadata": {},
   "outputs": [],
   "source": [
    "import pandas as pd\n",
    "import os\n",
    "os.chdir(\"C:/Users/dalto/OneDrive/Pictures/Documents/Projects/Pred Market Arb/\")\n",
    "df = pd.read_csv(\"polymarket_data/data/raw/market_gamma.csv\")\n",
    "df2 = pd.read_csv(\"polymarket_data/data/raw/market_gamma_2.csv\")"
   ]
  },
  {
   "cell_type": "code",
   "execution_count": 3,
   "metadata": {},
   "outputs": [],
   "source": [
    "def clean_market_data(df):\n",
    "    # Drop specified columns \n",
    "    df = df.drop(columns=['question', 'resolutionSource', 'image', 'icon', 'description', \n",
    "                         'marketMakerAddress', 'createdAt', 'featured', 'submitted_by', \n",
    "                         'archived', 'restricted'])\n",
    "    \n",
    "    # Reorder columns with specified ones at front\n",
    "    cols = ['events', 'clobRewards', 'spread', 'bestBid', 'bestAsk'] + \\\n",
    "           [col for col in df.columns if col not in ['events', 'clobRewards', 'spread', 'bestBid', 'bestAsk']]\n",
    "    df = df[cols]\n",
    "    \n",
    "    # Keep columns up to groupItemTitle\n",
    "    df = df.loc[:, :'groupItemTitle']\n",
    "    \n",
    "    return df\n",
    "\n",
    "# Apply the function to the dataframe\n",
    "df = clean_market_data(df)\n",
    "df.to_csv('polymarket_data/data/cleaned_samples/gamma_clean.csv')\n"
   ]
  },
  {
   "cell_type": "code",
   "execution_count": 4,
   "metadata": {},
   "outputs": [],
   "source": [
    "df2 = clean_market_data(df2)\n",
    "df2.to_csv('polymarket_data/data/cleaned_samples/gamma_clean_2.csv')"
   ]
  }
 ],
 "metadata": {
  "kernelspec": {
   "display_name": "base",
   "language": "python",
   "name": "python3"
  },
  "language_info": {
   "codemirror_mode": {
    "name": "ipython",
    "version": 3
   },
   "file_extension": ".py",
   "mimetype": "text/x-python",
   "name": "python",
   "nbconvert_exporter": "python",
   "pygments_lexer": "ipython3",
   "version": "3.12.7"
  }
 },
 "nbformat": 4,
 "nbformat_minor": 2
}
