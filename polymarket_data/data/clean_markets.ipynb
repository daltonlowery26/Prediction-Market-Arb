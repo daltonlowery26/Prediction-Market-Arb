{
 "cells": [
  {
   "cell_type": "markdown",
   "metadata": {},
   "source": [
    "### clean sample markets data"
   ]
  },
  {
   "cell_type": "code",
   "execution_count": 2,
   "metadata": {},
   "outputs": [],
   "source": [
    "import pandas as pd\n",
    "import numpy as np\n",
    "import os\n",
    "\n",
    "os.chdir(\"C:/Users/dalto/OneDrive/Pictures/Documents/Projects/Pred Market Arb/\")\n",
    "market_data = pd.read_csv(\"polymarket_data/sample_markets.csv\")"
   ]
  },
  {
   "cell_type": "markdown",
   "metadata": {},
   "source": [
    "#### extract and clean cells"
   ]
  },
  {
   "cell_type": "code",
   "execution_count": 3,
   "metadata": {},
   "outputs": [],
   "source": [
    "import ast\n",
    "import pandas as pd\n",
    "\n",
    "def clean_data(df):\n",
    "    # Extract data from 'data' column and create new columns\n",
    "    df = pd.concat([df.drop(['data'], axis=1), df['data'].apply(ast.literal_eval).apply(pd.Series)], axis=1)\n",
    "    # Extract nested 'rewards' dictionary into separate columns\n",
    "    df = pd.concat([df.drop(['rewards'], axis=1), df['rewards'].apply(pd.Series)], axis=1)\n",
    "    # Rename columns for clarity\n",
    "    df.rename(columns={'min_size': 'min_incentive_size', 'max_spread': 'max_incentive_spread'}, inplace=True)\n",
    "    # Extract 'tokens' list into separate columns\n",
    "    df['tokens'] = df['tokens'].apply(lambda x: x[0] if isinstance(x, list) else x)\n",
    "    df = pd.concat([df.drop(['tokens'], axis=1), df['tokens'].apply(pd.Series)], axis=1)\n",
    "    # Final DataFrame with required columns\n",
    "    df = df[['condition_id', 'token_id', 'outcome', 'price', 'winner', 'min_incentive_size', 'max_incentive_spread', 'active', 'closed']]\n",
    "    return df\n",
    "\n",
    "# still need to remove blank rows\n",
    "df_clean = clean_data(market_data.copy())\n",
    "df_clean.head()\n",
    "df_clean.to_csv(\"polymarket_data/clean_markets.csv\")"
   ]
  }
 ],
 "metadata": {
  "kernelspec": {
   "display_name": "base",
   "language": "python",
   "name": "python3"
  },
  "language_info": {
   "codemirror_mode": {
    "name": "ipython",
    "version": 3
   },
   "file_extension": ".py",
   "mimetype": "text/x-python",
   "name": "python",
   "nbconvert_exporter": "python",
   "pygments_lexer": "ipython3",
   "version": "3.12.7"
  }
 },
 "nbformat": 4,
 "nbformat_minor": 2
}
