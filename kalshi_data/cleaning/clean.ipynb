{
 "cells": [
  {
   "cell_type": "code",
   "execution_count": null,
   "metadata": {},
   "outputs": [],
   "source": [
    "import pandas as pd\n",
    "import os\n",
    "os.chdir(\"C:/Users/dalto/OneDrive/Pictures/Documents/Projects/Pred Market Arb/\")\n",
    "df = pd.read_csv(\"kalshi_data/data/raw/market_gamma.csv\")\n"
   ]
  }
 ],
 "metadata": {
  "language_info": {
   "name": "python"
  }
 },
 "nbformat": 4,
 "nbformat_minor": 2
}
